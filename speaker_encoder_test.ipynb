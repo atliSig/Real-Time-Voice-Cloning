{
 "cells": [
  {
   "cell_type": "code",
   "execution_count": 2,
   "id": "indie-berry",
   "metadata": {},
   "outputs": [
    {
     "name": "stderr",
     "output_type": "stream",
     "text": [
      "/home/rokas/year4/mlp/cw3/Real-Time-Voice-Cloning/voice_cloning/encoder/audio.py:13: UserWarning: Unable to import 'webrtcvad'. This package enables noise removal and is recommended.\n",
      "  warn(\"Unable to import 'webrtcvad'. This package enables noise removal and is recommended.\")\n"
     ]
    }
   ],
   "source": [
    "import os\n",
    "\n",
    "import torch\n",
    "import torch.nn as nn\n",
    "from torch.utils.data import DataLoader\n",
    "\n",
    "import numpy as np\n",
    "import argparse\n",
    "import os\n",
    "import time\n",
    "from pathlib import Path\n",
    "\n",
    "import voice_cloning\n",
    "\n",
    "from voice_cloning.encoder.inference import load_model as load_speaker_encoder\n",
    "\n",
    "from fastspeech2.dataset import Dataset\n",
    "from fastspeech2.optimizer import ScheduledOptim\n",
    "from fastspeech2.hparams import HyperParameters as hp\n",
    "import fastspeech2.utils as utils\n",
    "from fastspeech2.audio import tools as audiotools\n",
    "from voice_cloning.encoder import params_data"
   ]
  },
  {
   "cell_type": "code",
   "execution_count": 3,
   "id": "tribal-scoop",
   "metadata": {},
   "outputs": [
    {
     "name": "stdout",
     "output_type": "stream",
     "text": [
      "Loaded encoder \"pretrained.pt\" trained to step 1564501\n"
     ]
    }
   ],
   "source": [
    "# Get device\n",
    "device = torch.device('cuda'if torch.cuda.is_available() else 'cpu')\n",
    "\n",
    "# Get dataset\n",
    "dataset = Dataset(\"train.txt\")\n",
    "loader = DataLoader(dataset, batch_size=128, shuffle=True,\n",
    "                    collate_fn=dataset.collate_fn, drop_last=True, \n",
    "                    num_workers=4)\n",
    "\n",
    "speaker_encoder = None\n",
    "if hp.speaker_encoder_path != \"\":\n",
    "    speaker_encoder = load_speaker_encoder(Path(hp.speaker_encoder_path), device).to(device)\n",
    "    if not hp.train_speaker_encoder:\n",
    "        for param in speaker_encoder.parameters():\n",
    "            param.requires_grad = False\n",
    "\n",
    "# Define model\n",
    "model = speaker_encoder.to(device).eval()"
   ]
  },
  {
   "cell_type": "code",
   "execution_count": 4,
   "id": "central-worst",
   "metadata": {},
   "outputs": [],
   "source": [
    "speaker_embeddings = {}\n",
    "total = 0\n",
    "for i, batchs in enumerate(loader):\n",
    "    for j, data_of_batch in enumerate(batchs):\n",
    "        # Get Data\n",
    "        text = torch.from_numpy(data_of_batch[\"text\"]).long().to(device)\n",
    "        mel_target = torch.from_numpy(data_of_batch[\"mel_target\"]).float().to(device)\n",
    "        D = torch.from_numpy(data_of_batch[\"D\"]).long().to(device)\n",
    "        log_D = torch.from_numpy(data_of_batch[\"log_D\"]).float().to(device)\n",
    "        f0 = torch.from_numpy(data_of_batch[\"f0\"]).float().to(device)\n",
    "        energy = torch.from_numpy(data_of_batch[\"energy\"]).float().to(device)\n",
    "        src_len = torch.from_numpy(data_of_batch[\"src_len\"]).long().to(device)\n",
    "        mel_len = torch.from_numpy(data_of_batch[\"mel_len\"]).long().to(device)\n",
    "        max_src_len = np.max(data_of_batch[\"src_len\"]).astype(np.int32)\n",
    "        max_mel_len = np.max(data_of_batch[\"mel_len\"]).astype(np.int32)\n",
    "\n",
    "        embeddings = model(mel_target[:, :, :params_data.mel_n_channels])\n",
    "        for i in range(len(embeddings)):\n",
    "            speaker = data_of_batch[\"id\"][i].split(\"_\")[0][1:]\n",
    "            embedding = embeddings[i].cpu().numpy()\n",
    "            if speaker in speaker_embeddings.keys():\n",
    "                speaker_embeddings[speaker].append(embedding)\n",
    "            else:\n",
    "                speaker_embeddings[speaker] = [embedding]\n",
    "        total += len(embeddings)\n",
    "        if total > 1000:\n",
    "            break  \n",
    "    if total > 1000:\n",
    "            break"
   ]
  },
  {
   "cell_type": "code",
   "execution_count": 5,
   "id": "certain-casino",
   "metadata": {},
   "outputs": [],
   "source": [
    "speaker_avg = np.zeros((len(speaker_embeddings.keys()), 256))\n",
    "for i, key in enumerate(speaker_embeddings.keys()):\n",
    "    arr = np.array(speaker_embeddings[key])\n",
    "    mean = np.mean(arr, axis=0) \n",
    "    speaker_avg[i] = mean"
   ]
  },
  {
   "cell_type": "code",
   "execution_count": 6,
   "id": "forbidden-collective",
   "metadata": {},
   "outputs": [],
   "source": [
    "from sklearn.metrics.pairwise import cosine_similarity as sim\n",
    "similarity = sim(speaker_avg, speaker_avg)                "
   ]
  },
  {
   "cell_type": "code",
   "execution_count": 39,
   "id": "provincial-thing",
   "metadata": {},
   "outputs": [
    {
     "name": "stdout",
     "output_type": "stream",
     "text": [
      "['236', '363', '254', '308', '281', '263', '282', '277', '246', '275', '269', '271', '272', '323', '266']\n"
     ]
    },
    {
     "data": {
      "text/plain": [
       "[Text(0, 0, '236'),\n",
       " Text(0, 0, '363'),\n",
       " Text(0, 0, '254'),\n",
       " Text(0, 0, '308'),\n",
       " Text(0, 0, '281'),\n",
       " Text(0, 0, '263'),\n",
       " Text(0, 0, '282'),\n",
       " Text(0, 0, '277'),\n",
       " Text(0, 0, '246'),\n",
       " Text(0, 0, '275'),\n",
       " Text(0, 0, '269'),\n",
       " Text(0, 0, '271'),\n",
       " Text(0, 0, '272'),\n",
       " Text(0, 0, '323'),\n",
       " Text(0, 0, '266')]"
      ]
     },
     "execution_count": 39,
     "metadata": {},
     "output_type": "execute_result"
    },
    {
     "data": {
      "image/png": "[encoded data removed]",
      "text/plain": [
       "<Figure size 432x288 with 1 Axes>"
      ]
     },
     "metadata": {
      "needs_background": "light"
     },
     "output_type": "display_data"
    }
   ],
   "source": [
    "from matplotlib import pyplot as plt\n",
    "%matplotlib inline\n",
    "\n",
    "n = 15\n",
    "labels = list(speaker_embeddings.keys())[:n]\n",
    "print(labels)\n",
    "\n",
    "fig, ax = plt.subplots(1,1)\n",
    "ax.imshow(similarity[:n, :n])\n",
    "plt.xticks(np.arange(0, n))\n",
    "plt.yticks(np.arange(0, n))\n",
    "ax.set_xticklabels(labels, rotation='vertical')\n",
    "ax.set_yticklabels(labels)\n"
   ]
  },
  {
   "cell_type": "code",
   "execution_count": 11,
   "id": "chronic-criticism",
   "metadata": {},
   "outputs": [
    {
     "data": {
      "text/plain": [
       "dict_keys(['236', '363', '254', '308', '281', '263', '282', '277', '246', '275', '269', '271', '272', '323', '266', '255', '317', '278', '265', '260', '347', '239', '250', '244', '334', '226', '329', '310', '238', '270', '314', '267', '279', '339', '376', '256', '249', '299', '230', '259', '292', '311', '276', '283', '234', '303', '316', '297', '268', '280', '233', '312', '307', '301', '286', '313', '361', '284', '364', '298', '304', '374', '360', '336', '229', '288', '252', '294', '305', '326', '237', '232', '274', '243', '227', '264', '300', '333', '261', '306', '273', '248', '287', '231', '330', '293', '247', '251', '228', '258', '241', '225', '285', '245', '351', '302', '253', '343', '295', '335', '318', '240', '340', '362', '341', '257', '345', '262'])"
      ]
     },
     "execution_count": 11,
     "metadata": {},
     "output_type": "execute_result"
    }
   ],
   "source": [
    "speaker_embeddings.keys()"
   ]
  },
  {
   "cell_type": "code",
   "execution_count": null,
   "id": "durable-listing",
   "metadata": {},
   "outputs": [],
   "source": []
  }
 ],
 "metadata": {
  "kernelspec": {
   "display_name": "Python 3",
   "language": "python",
   "name": "python3"
  },
  "language_info": {
   "codemirror_mode": {
    "name": "ipython",
    "version": 3
   },
   "file_extension": ".py",
   "mimetype": "text/x-python",
   "name": "python",
   "nbconvert_exporter": "python",
   "pygments_lexer": "ipython3",
   "version": "3.8.5"
  }
 },
 "nbformat": 4,
 "nbformat_minor": 5
}
