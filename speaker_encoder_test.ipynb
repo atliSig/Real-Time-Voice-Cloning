{
 "cells": [
  {
   "cell_type": "code",
   "execution_count": 2,
   "id": "indie-berry",
   "metadata": {},
   "outputs": [
    {
     "name": "stderr",
     "output_type": "stream",
     "text": [
      "/home/rokas/year4/mlp/cw3/Real-Time-Voice-Cloning/voice_cloning/encoder/audio.py:13: UserWarning: Unable to import 'webrtcvad'. This package enables noise removal and is recommended.\n",
      "  warn(\"Unable to import 'webrtcvad'. This package enables noise removal and is recommended.\")\n"
     ]
    }
   ],
   "source": [
    "import os\n",
    "\n",
    "import torch\n",
    "import torch.nn as nn\n",
    "from torch.utils.data import DataLoader\n",
    "\n",
    "import numpy as np\n",
    "import argparse\n",
    "import os\n",
    "import time\n",
    "from pathlib import Path\n",
    "\n",
    "import voice_cloning\n",
    "\n",
    "from voice_cloning.encoder.inference import load_model as load_speaker_encoder\n",
    "\n",
    "from fastspeech2.dataset import Dataset\n",
    "from fastspeech2.optimizer import ScheduledOptim\n",
    "from fastspeech2.hparams import HyperParameters as hp\n",
    "import fastspeech2.utils as utils\n",
    "from fastspeech2.audio import tools as audiotools\n",
    "from voice_cloning.encoder import params_data"
   ]
  },
  {
   "cell_type": "code",
   "execution_count": 3,
   "id": "intimate-ceiling",
   "metadata": {},
   "outputs": [
    {
     "name": "stdout",
     "output_type": "stream",
     "text": [
      "Loaded encoder \"pretrained.pt\" trained to step 1564501\n"
     ]
    }
   ],
   "source": [
    "# Get device\n",
    "device = torch.device('cuda'if torch.cuda.is_available() else 'cpu')\n",
    "\n",
    "# Get dataset\n",
    "dataset = Dataset(\"train.txt\")\n",
    "loader = DataLoader(dataset, batch_size=128, shuffle=True,\n",
    "                    collate_fn=dataset.collate_fn, drop_last=True, \n",
    "                    num_workers=4)\n",
    "\n",
    "speaker_encoder = None\n",
    "if hp.speaker_encoder_path != \"\":\n",
    "    speaker_encoder = load_speaker_encoder(Path(hp.speaker_encoder_path), device).to(device)\n",
    "    if not hp.train_speaker_encoder:\n",
    "        for param in speaker_encoder.parameters():\n",
    "            param.requires_grad = False\n",
    "\n",
    "# Define model\n",
    "model = speaker_encoder.to(device).eval()"
   ]
  },
  {
   "cell_type": "code",
   "execution_count": 53,
   "id": "central-worst",
   "metadata": {},
   "outputs": [],
   "source": [
    "speaker_embeddings = {}\n",
    "total = 0\n",
    "limit = 1000\n",
    "\n",
    "for i, batchs in enumerate(loader):\n",
    "    for j, data_of_batch in enumerate(batchs):\n",
    "        # Get Data\n",
    "        text = torch.from_numpy(data_of_batch[\"text\"]).long().to(device)\n",
    "        mel_target = torch.from_numpy(data_of_batch[\"mel_target\"]).float().to(device)\n",
    "        D = torch.from_numpy(data_of_batch[\"D\"]).long().to(device)\n",
    "        log_D = torch.from_numpy(data_of_batch[\"log_D\"]).float().to(device)\n",
    "        f0 = torch.from_numpy(data_of_batch[\"f0\"]).float().to(device)\n",
    "        energy = torch.from_numpy(data_of_batch[\"energy\"]).float().to(device)\n",
    "        src_len = torch.from_numpy(data_of_batch[\"src_len\"]).long().to(device)\n",
    "        mel_len = torch.from_numpy(data_of_batch[\"mel_len\"]).long().to(device)\n",
    "        max_src_len = np.max(data_of_batch[\"src_len\"]).astype(np.int32)\n",
    "        max_mel_len = np.max(data_of_batch[\"mel_len\"]).astype(np.int32)\n",
    "\n",
    "        embeddings = model(mel_target[:, :, :params_data.mel_n_channels])\n",
    "        for i in range(len(embeddings)):\n",
    "            speaker = data_of_batch[\"id\"][i].split(\"_\")[0][1:]\n",
    "            embedding = embeddings[i].cpu().numpy()\n",
    "            if speaker in speaker_embeddings.keys():\n",
    "                speaker_embeddings[speaker].append(embedding)\n",
    "            else:\n",
    "                speaker_embeddings[speaker] = [embedding]\n",
    "                \n",
    "        total += len(embeddings)\n",
    "        if total > limit:\n",
    "            break  \n",
    "    if total > limit:\n",
    "            break"
   ]
  },
  {
   "cell_type": "code",
   "execution_count": 66,
   "id": "collective-damage",
   "metadata": {},
   "outputs": [
    {
     "name": "stdout",
     "output_type": "stream",
     "text": [
      "Number of speakers found: 108\n",
      "9.26 samples on average per speaker\n"
     ]
    }
   ],
   "source": [
    "num_speakers = len(speaker_embeddings.keys())\n",
    "print(\"Number of speakers found: {}\".format(num_speakers))\n",
    "print(\"{:.2f} samples on average per speaker\".format(limit/num_speakers))"
   ]
  },
  {
   "cell_type": "code",
   "execution_count": 67,
   "id": "closed-intensity",
   "metadata": {},
   "outputs": [],
   "source": [
    "speaker_avg = np.zeros((num_speakers, 256))\n",
    "avg = 0\n",
    "for i, key in enumerate(speaker_embeddings.keys()):\n",
    "    arr = np.array(speaker_embeddings[key])\n",
    "    mean = np.mean(arr, axis=0) \n",
    "    speaker_avg[i] = mean"
   ]
  },
  {
   "cell_type": "code",
   "execution_count": 68,
   "id": "hairy-comfort",
   "metadata": {},
   "outputs": [
    {
     "data": {
      "text/plain": [
       "[Text(0, 0, '308'),\n",
       " Text(0, 0, '247'),\n",
       " Text(0, 0, '270'),\n",
       " Text(0, 0, '248'),\n",
       " Text(0, 0, '272'),\n",
       " Text(0, 0, '259'),\n",
       " Text(0, 0, '278'),\n",
       " Text(0, 0, '241'),\n",
       " Text(0, 0, '274'),\n",
       " Text(0, 0, '262'),\n",
       " Text(0, 0, '285'),\n",
       " Text(0, 0, '299'),\n",
       " Text(0, 0, '266'),\n",
       " Text(0, 0, '263'),\n",
       " Text(0, 0, '335')]"
      ]
     },
     "execution_count": 68,
     "metadata": {},
     "output_type": "execute_result"
    },
    {
     "data": {
      "image/png": "[encoded data removed]",
      "text/plain": [
       "<Figure size 432x288 with 1 Axes>"
      ]
     },
     "metadata": {
      "needs_background": "light"
     },
     "output_type": "display_data"
    }
   ],
   "source": [
    "from matplotlib import pyplot as plt\n",
    "%matplotlib inline\n",
    "from sklearn.metrics.pairwise import cosine_similarity as sim\n",
    "\n",
    "similarity = sim(speaker_avg, speaker_avg)  \n",
    "n = 15\n",
    "labels = list(speaker_embeddings.keys())[:n]\n",
    "\n",
    "fig, ax = plt.subplots(1,1)\n",
    "ax.imshow(similarity[:n, :n])\n",
    "plt.xticks(np.arange(0, n))\n",
    "plt.yticks(np.arange(0, n))\n",
    "ax.set_xticklabels(labels, rotation='vertical')\n",
    "ax.set_yticklabels(labels)"
   ]
  },
  {
   "cell_type": "code",
   "execution_count": 69,
   "id": "continued-vessel",
   "metadata": {},
   "outputs": [],
   "source": [
    "single_similarity = np.zeros((num_speakers, num_speakers))\n",
    "for i, key in enumerate(speaker_embeddings.keys()):\n",
    "    idx = np.random.randint(len(speaker_embeddings[key]))\n",
    "    emb = speaker_embeddings[key][idx]\n",
    "    single_similarity[i] = sim(emb.reshape(1, -1), speaker_avg)"
   ]
  },
  {
   "cell_type": "code",
   "execution_count": 70,
   "id": "round-brazilian",
   "metadata": {},
   "outputs": [
    {
     "data": {
      "text/plain": [
       "[Text(0, 0, '308'),\n",
       " Text(0, 0, '247'),\n",
       " Text(0, 0, '270'),\n",
       " Text(0, 0, '248'),\n",
       " Text(0, 0, '272'),\n",
       " Text(0, 0, '259'),\n",
       " Text(0, 0, '278'),\n",
       " Text(0, 0, '241'),\n",
       " Text(0, 0, '274'),\n",
       " Text(0, 0, '262')]"
      ]
     },
     "execution_count": 70,
     "metadata": {},
     "output_type": "execute_result"
    },
    {
     "data": {
      "image/png": "[encoded data removed]",
      "text/plain": [
       "<Figure size 432x288 with 1 Axes>"
      ]
     },
     "metadata": {
      "needs_background": "light"
     },
     "output_type": "display_data"
    }
   ],
   "source": [
    "n = 10\n",
    "fig, ax = plt.subplots(1,1)\n",
    "ax.imshow(single_similarity[:n, :n])\n",
    "plt.xticks(np.arange(0, n))\n",
    "plt.yticks(np.arange(0, n))\n",
    "ax.set_xticklabels(labels, rotation='vertical')\n",
    "ax.set_yticklabels(labels)"
   ]
  }
 ],
 "metadata": {
  "kernelspec": {
   "display_name": "Python 3",
   "language": "python",
   "name": "python3"
  },
  "language_info": {
   "codemirror_mode": {
    "name": "ipython",
    "version": 3
   },
   "file_extension": ".py",
   "mimetype": "text/x-python",
   "name": "python",
   "nbconvert_exporter": "python",
   "pygments_lexer": "ipython3",
   "version": "3.8.5"
  }
 },
 "nbformat": 4,
 "nbformat_minor": 5
}
